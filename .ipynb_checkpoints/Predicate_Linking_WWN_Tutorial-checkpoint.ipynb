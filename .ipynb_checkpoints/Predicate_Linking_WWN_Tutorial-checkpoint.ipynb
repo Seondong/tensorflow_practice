{
 "cells": [
  {
   "cell_type": "markdown",
   "metadata": {},
   "source": [
    "### ETRI 제공 낱말 API 사용\n"
   ]
  },
  {
   "cell_type": "code",
   "execution_count": 47,
   "metadata": {
    "collapsed": true
   },
   "outputs": [],
   "source": [
    "#-*- coding: utf-8 -*-\n",
    "import pymysql\n",
    "import sys"
   ]
  },
  {
   "cell_type": "code",
   "execution_count": 31,
   "metadata": {
    "collapsed": false
   },
   "outputs": [
    {
     "name": "stdout",
     "output_type": "stream",
     "text": [
      "None\n"
     ]
    }
   ],
   "source": [
    "print(sys.stdin.encoding)\n",
    "\n",
    "conn = pymysql.connect(host='localhost', port=3306, user='root', passwd='123456',\n",
    "                                 db='WWN', charset ='utf8')\n",
    "cur = conn.cursor()"
   ]
  },
  {
   "cell_type": "code",
   "execution_count": 32,
   "metadata": {
    "collapsed": false
   },
   "outputs": [
    {
     "name": "stdout",
     "output_type": "stream",
     "text": [
      "tbl_antonym\n",
      "tbl_antonym_mapping\n",
      "tbl_kl2wk_mapping\n",
      "tbl_kl_glossary\n",
      "tbl_kl_hyponyminfo\n",
      "tbl_kl_wordinfo\n",
      "tbl_korlex2stddic\n",
      "tbl_stddicinfo\n",
      "tbl_synonym\n",
      "tbl_synonym_mapping\n",
      "tbl_um2wk_mapping\n",
      "tbl_um_hyponyminfo\n",
      "tbl_um_wordinfo\n"
     ]
    }
   ],
   "source": [
    "cur.execute(\"show tables\")\n",
    "\n",
    "for row in cur:\n",
    "   print(row[0])"
   ]
  },
  {
   "cell_type": "code",
   "execution_count": 33,
   "metadata": {
    "collapsed": false,
    "scrolled": false
   },
   "outputs": [
    {
     "name": "stdout",
     "output_type": "stream",
     "text": [
      "no\n",
      "fldClusterID\n",
      "fld1stAntonyms\n",
      "fld1stAntIDs\n",
      "fldSource\n",
      "fld2stAntonyms\n",
      "fld2stAntIDs\n"
     ]
    }
   ],
   "source": [
    "sql = \"describe tbl_antonym\"\n",
    "\n",
    "cur.execute(sql)\n",
    "\n",
    "for row in cur:\n",
    "   print(row[0])"
   ]
  },
  {
   "cell_type": "code",
   "execution_count": 56,
   "metadata": {
    "collapsed": false
   },
   "outputs": [
    {
     "name": "stdout",
     "output_type": "stream",
     "text": [
      "(108883, 1, u'2507AAB6D8F21D19ECCF21D908313F8E', u'46200', u'92B8452CB8AEAC44A4F2DD6B722D4B03', None, None)\n",
      "(108884, 2, u'2507AAB6D8F21D19ECCF21D908313F8E', u'46200', u'92B8452CB8AEAC44A4F2DD6B722D4B03', None, None)\n",
      "(108885, 3, u'2507AAB6D8F21D19ECCF21D908313F8E', u'46200', u'92B8452CB8AEAC44A4F2DD6B722D4B03', None, None)\n",
      "(108886, 4, u'2507AAB6D8F21D19ECCF21D908313F8E', u'46200', u'92B8452CB8AEAC44A4F2DD6B722D4B03', None, None)\n",
      "(108887, 5, u'2BC2F519217B78E1DB491E940C90BBF6', u'3158400', u'92B8452CB8AEAC44A4F2DD6B722D4B03', None, None)\n",
      "(108888, 6, u'3274770A45C4CF810959D08FCF3866114B0C80C51DE8EF9933B04179D33E824D', u'3011100,5784700', u'92B8452CB8AEAC44A4F2DD6B722D4B03', None, None)\n",
      "(108889, 7, u'70C71C373CB84BC906E8B27395BB0545', u'5785000', u'92B8452CB8AEAC44A4F2DD6B722D4B03', None, None)\n",
      "(108890, 8, u'70C71C373CB84BC906E8B27395BB0545', u'5785000', u'92B8452CB8AEAC44A4F2DD6B722D4B03', None, None)\n",
      "(108891, 9, u'70C71C373CB84BC906E8B27395BB0545', u'5785000', u'92B8452CB8AEAC44A4F2DD6B722D4B03', None, None)\n",
      "(108892, 10, u'1789257B65C5D08F43AEBD30F92C9AFB', u'24565900,26474100', u'92B8452CB8AEAC44A4F2DD6B722D4B03', None, None)\n"
     ]
    }
   ],
   "source": [
    "sql = \"select * from tbl_synonym limit 10 \"\n",
    "\n",
    "cur.execute(sql)\n",
    "\n",
    "for row in cur:\n",
    "   print(row)"
   ]
  },
  {
   "cell_type": "code",
   "execution_count": null,
   "metadata": {
    "collapsed": true
   },
   "outputs": [],
   "source": []
  },
  {
   "cell_type": "code",
   "execution_count": null,
   "metadata": {
    "collapsed": true
   },
   "outputs": [],
   "source": []
  },
  {
   "cell_type": "code",
   "execution_count": 26,
   "metadata": {
    "collapsed": false
   },
   "outputs": [
    {
     "ename": "Error",
     "evalue": "Already closed",
     "output_type": "error",
     "traceback": [
      "\u001b[1;31m---------------------------------------------------------------------------\u001b[0m",
      "\u001b[1;31mError\u001b[0m                                     Traceback (most recent call last)",
      "\u001b[1;32m<ipython-input-26-0e22cdab9285>\u001b[0m in \u001b[0;36m<module>\u001b[1;34m()\u001b[0m\n\u001b[0;32m      1\u001b[0m \u001b[0mcur\u001b[0m\u001b[1;33m.\u001b[0m\u001b[0mclose\u001b[0m\u001b[1;33m(\u001b[0m\u001b[1;33m)\u001b[0m\u001b[1;33m\u001b[0m\u001b[0m\n\u001b[1;32m----> 2\u001b[1;33m \u001b[0mconn\u001b[0m\u001b[1;33m.\u001b[0m\u001b[0mclose\u001b[0m\u001b[1;33m(\u001b[0m\u001b[1;33m)\u001b[0m\u001b[1;33m\u001b[0m\u001b[0m\n\u001b[0m",
      "\u001b[1;32m/usr/local/lib/python2.7/dist-packages/pymysql/connections.pyc\u001b[0m in \u001b[0;36mclose\u001b[1;34m(self)\u001b[0m\n\u001b[0;32m    660\u001b[0m         \u001b[1;34m\"\"\"Send the quit message and close the socket\"\"\"\u001b[0m\u001b[1;33m\u001b[0m\u001b[0m\n\u001b[0;32m    661\u001b[0m         \u001b[1;32mif\u001b[0m \u001b[0mself\u001b[0m\u001b[1;33m.\u001b[0m\u001b[0msocket\u001b[0m \u001b[1;32mis\u001b[0m \u001b[0mNone\u001b[0m\u001b[1;33m:\u001b[0m\u001b[1;33m\u001b[0m\u001b[0m\n\u001b[1;32m--> 662\u001b[1;33m             \u001b[1;32mraise\u001b[0m \u001b[0merr\u001b[0m\u001b[1;33m.\u001b[0m\u001b[0mError\u001b[0m\u001b[1;33m(\u001b[0m\u001b[1;34m\"Already closed\"\u001b[0m\u001b[1;33m)\u001b[0m\u001b[1;33m\u001b[0m\u001b[0m\n\u001b[0m\u001b[0;32m    663\u001b[0m         \u001b[0msend_data\u001b[0m \u001b[1;33m=\u001b[0m \u001b[0mstruct\u001b[0m\u001b[1;33m.\u001b[0m\u001b[0mpack\u001b[0m\u001b[1;33m(\u001b[0m\u001b[1;34m'<iB'\u001b[0m\u001b[1;33m,\u001b[0m \u001b[1;36m1\u001b[0m\u001b[1;33m,\u001b[0m \u001b[0mCOMMAND\u001b[0m\u001b[1;33m.\u001b[0m\u001b[0mCOM_QUIT\u001b[0m\u001b[1;33m)\u001b[0m\u001b[1;33m\u001b[0m\u001b[0m\n\u001b[0;32m    664\u001b[0m         \u001b[1;32mtry\u001b[0m\u001b[1;33m:\u001b[0m\u001b[1;33m\u001b[0m\u001b[0m\n",
      "\u001b[1;31mError\u001b[0m: Already closed"
     ]
    }
   ],
   "source": [
    "cur.close()\n",
    "conn.close() "
   ]
  },
  {
   "cell_type": "code",
   "execution_count": null,
   "metadata": {
    "collapsed": true
   },
   "outputs": [],
   "source": []
  },
  {
   "cell_type": "code",
   "execution_count": null,
   "metadata": {
    "collapsed": true
   },
   "outputs": [],
   "source": []
  }
 ],
 "metadata": {
  "kernelspec": {
   "display_name": "Python 2",
   "language": "python",
   "name": "python2"
  },
  "language_info": {
   "codemirror_mode": {
    "name": "ipython",
    "version": 2
   },
   "file_extension": ".py",
   "mimetype": "text/x-python",
   "name": "python",
   "nbconvert_exporter": "python",
   "pygments_lexer": "ipython2",
   "version": "2.7.5+"
  }
 },
 "nbformat": 4,
 "nbformat_minor": 0
}
